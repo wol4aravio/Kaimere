{
 "cells": [
  {
   "cell_type": "markdown",
   "metadata": {},
   "source": [
    "# Intro to Vectors \n",
    "\n",
    "Current notebook demonstrates main operations that can be performed over vectors"
   ]
  },
  {
   "cell_type": "markdown",
   "metadata": {},
   "source": [
    "# Imports"
   ]
  },
  {
   "cell_type": "code",
   "execution_count": 1,
   "metadata": {},
   "outputs": [
    {
     "name": "stderr",
     "output_type": "stream",
     "text": [
      "/Users/wol4aravio/.local/share/virtualenvs/OSOL.Extremum-OVhn4MgJ/lib/python3.6/site-packages/OSOL/Extremum/Numerical_Objects/Interval.py:23: UserWarning: Can not parse config.ini file. Setting default __MIN_WIDTH = 1e-7\n",
      "  warnings.warn('Can not parse config.ini file. Setting default __MIN_WIDTH = 1e-7')\n"
     ]
    }
   ],
   "source": [
    "from OSOL.Extremum.Numerical_Objects.Interval import *\n",
    "from OSOL.Extremum.Numerical_Objects.Vector import *\n",
    "\n",
    "from OSOL.Extremum.Tools.Encoders import CustomEncoder as encoder"
   ]
  },
  {
   "cell_type": "code",
   "execution_count": 2,
   "metadata": {},
   "outputs": [],
   "source": [
    "import json"
   ]
  },
  {
   "cell_type": "markdown",
   "metadata": {},
   "source": [
    "# Creation of vector\n",
    "\n",
    "Vector can be trated as an expansion of ordinary dictionary"
   ]
  },
  {
   "cell_type": "markdown",
   "metadata": {},
   "source": [
    "### Via constructor\n",
    "\n",
    "Vector can be homogeneous (i.e. consist of elements of the same type) and inhomogeneous (e.g. mix of intervals and real numbers)"
   ]
  },
  {
   "cell_type": "code",
   "execution_count": 3,
   "metadata": {},
   "outputs": [
    {
     "name": "stdout",
     "output_type": "stream",
     "text": [
      "v1 : (x1: 1.0) x (x2: 2.0)\n",
      "v2 : (x1: [1.0; 2.0]) x (x2: [2.0; 3.0])\n",
      "v3 : (x1: 1.0) x (x2: [2.0; 3.0])\n"
     ]
    }
   ],
   "source": [
    "v1 = Vector({'x1': 1.0, 'x2': 2.0})\n",
    "v2 = Vector({'x1': Interval(1.0, 2.0), 'x2': Interval(2.0, 3.0)})\n",
    "v3 = Vector({'x1': 1.0, 'x2': Interval(2.0, 3.0)})\n",
    "\n",
    "print('v1 : %s' %v1)\n",
    "print('v2 : %s' %v2)\n",
    "print('v3 : %s' %v3)"
   ]
  },
  {
   "cell_type": "markdown",
   "metadata": {},
   "source": [
    "Also it can be created using class method `Vector.from_dict`"
   ]
  },
  {
   "cell_type": "code",
   "execution_count": 4,
   "metadata": {},
   "outputs": [
    {
     "name": "stdout",
     "output_type": "stream",
     "text": [
      "<class 'dict'>\n",
      "(x1: 1.0) x (x2: 2.0)\n"
     ]
    }
   ],
   "source": [
    "print(type(v1._values))\n",
    "\n",
    "v4 = Vector.from_dict({'values': v1._values})\n",
    "print(v4)"
   ]
  },
  {
   "cell_type": "markdown",
   "metadata": {},
   "source": [
    "Vector can be serialized to JSON and constructed from JSON"
   ]
  },
  {
   "cell_type": "code",
   "execution_count": 5,
   "metadata": {},
   "outputs": [
    {
     "name": "stdout",
     "output_type": "stream",
     "text": [
      "{\"Vector\": {\"values\": {\"x2\": 2.0, \"x1\": 1.0}}}\n"
     ]
    }
   ],
   "source": [
    "j = json.dumps(v1, cls=encoder)\n",
    "\n",
    "print(j)"
   ]
  },
  {
   "cell_type": "code",
   "execution_count": 6,
   "metadata": {},
   "outputs": [
    {
     "name": "stdout",
     "output_type": "stream",
     "text": [
      "(x2: 2.0) x (x1: 1.0)\n"
     ]
    }
   ],
   "source": [
    "v5 = Vector.from_json(json.loads(j))\n",
    "\n",
    "print(v5)"
   ]
  },
  {
   "cell_type": "markdown",
   "metadata": {},
   "source": [
    "# Vector properties"
   ]
  },
  {
   "cell_type": "markdown",
   "metadata": {},
   "source": [
    "One can access both keys and values of a vector"
   ]
  },
  {
   "cell_type": "code",
   "execution_count": 7,
   "metadata": {},
   "outputs": [
    {
     "name": "stdout",
     "output_type": "stream",
     "text": [
      "Keys of v1: {'x2', 'x1'}\n"
     ]
    }
   ],
   "source": [
    "print('Keys of v1: %s' % v1.keys)"
   ]
  },
  {
   "cell_type": "code",
   "execution_count": 8,
   "metadata": {},
   "outputs": [
    {
     "name": "stdout",
     "output_type": "stream",
     "text": [
      "Values of v1: ['1.0', '2.0']: \n",
      "Values of v2: ['[1.0; 2.0]', '[2.0; 3.0]']: \n",
      "Values of v3: ['1.0', '[2.0; 3.0]']: \n"
     ]
    }
   ],
   "source": [
    "print('Values of v1: %s: ' % [str(v) for v in v1.values])\n",
    "print('Values of v2: %s: ' % [str(v) for v in v2.values])\n",
    "print('Values of v3: %s: ' % [str(v) for v in v3.values])"
   ]
  },
  {
   "cell_type": "markdown",
   "metadata": {},
   "source": [
    "Dimensionality and length are also available"
   ]
  },
  {
   "cell_type": "code",
   "execution_count": 9,
   "metadata": {},
   "outputs": [
    {
     "name": "stdout",
     "output_type": "stream",
     "text": [
      "Dimensionality of v1: 2\n",
      "Dimensionality of v2: 2\n",
      "Dimensionality of v3: 2\n"
     ]
    }
   ],
   "source": [
    "print('Dimensionality of v1: %d' % v1.dim)\n",
    "print('Dimensionality of v2: %d' % v2.dim)\n",
    "print('Dimensionality of v3: %d' % v3.dim)"
   ]
  },
  {
   "cell_type": "code",
   "execution_count": 10,
   "metadata": {},
   "outputs": [
    {
     "name": "stdout",
     "output_type": "stream",
     "text": [
      "Length of v1: 2.23606797749979\n",
      "Length of v2: [2.23606797749979; 3.605551275463989]\n",
      "Length of v3: [2.23606797749979; 3.1622776601683795]\n"
     ]
    }
   ],
   "source": [
    "print('Length of v1: %s' % v1.length)\n",
    "print('Length of v2: %s' % v2.length)\n",
    "print('Length of v3: %s' % v3.length)"
   ]
  },
  {
   "cell_type": "markdown",
   "metadata": {},
   "source": [
    "# Operation that can be performed over vectors"
   ]
  },
  {
   "cell_type": "markdown",
   "metadata": {},
   "source": [
    "### Equality/Inequality"
   ]
  },
  {
   "cell_type": "code",
   "execution_count": 11,
   "metadata": {},
   "outputs": [
    {
     "name": "stdout",
     "output_type": "stream",
     "text": [
      "(x1: 1.0) x (x2: 2.0) == (x1: [1.0; 2.0]) x (x2: [2.0; 3.0]) => False\n",
      "(x1: 1.0) x (x2: 2.0) != (x1: [1.0; 2.0]) x (x2: [2.0; 3.0]) => True\n",
      "(x1: 1.0) x (x2: 2.0) == (x1: 1.0) x (x2: 2.0) => True\n",
      "(x1: 1.0) x (x2: 2.0) == Vector({'x': 5}) => False\n"
     ]
    }
   ],
   "source": [
    "print('%s == %s => %s' % (v1, v2, v1 == v2))\n",
    "print('%s != %s => %s' % (v1, v2, v1 != v2))\n",
    "\n",
    "print('%s == %s => %s' % (v1, v4, v1 == v4))\n",
    "\n",
    "print('%s == Vector({\\'x\\': 5}) => %s' % (v1, v1 == Vector({'x': 5})))"
   ]
  },
  {
   "cell_type": "markdown",
   "metadata": {},
   "source": [
    "### Linear operations"
   ]
  },
  {
   "cell_type": "code",
   "execution_count": 12,
   "metadata": {},
   "outputs": [
    {
     "name": "stdout",
     "output_type": "stream",
     "text": [
      "(x1: 1.0) x (x2: 2.0) + (x1: [1.0; 2.0]) x (x2: [2.0; 3.0]) = (x2: [4.0; 5.0]) x (x1: [2.0; 3.0])\n",
      "(x1: 1.0) x (x2: 2.0) - (x1: [1.0; 2.0]) x (x2: [2.0; 3.0]) = (x2: [-1.0; 0.0]) x (x1: [-1.0; 0.0])\n",
      "-((x1: 1.0) x (x2: 2.0)) = (x2: -2.0) x (x1: -1.0)\n",
      "2 * (x1: 1.0) x (x2: 2.0) = (x2: 4.0) x (x1: 2.0)\n"
     ]
    }
   ],
   "source": [
    "print('%s + %s = %s' % (v1, v2, v1 + v2))\n",
    "print('%s - %s = %s' % (v1, v2, v1 - v2))\n",
    "\n",
    "print('-(%s) = %s' % (v1, -v1))\n",
    "\n",
    "print('2 * %s = %s' % (v1, 2 * v1))"
   ]
  },
  {
   "cell_type": "markdown",
   "metadata": {},
   "source": [
    "### Transfer"
   ]
  },
  {
   "cell_type": "code",
   "execution_count": 13,
   "metadata": {},
   "outputs": [
    {
     "name": "stdout",
     "output_type": "stream",
     "text": [
      "(x1: 1.0) x (x2: 2.0) >> {'x1': 2} = (x2: 2.0) x (x1: 3.0)\n",
      "(x1: 1.0) x (x2: 2.0) >> {'x2': 2} = (x2: 4.0) x (x1: 1.0)\n",
      "(x1: 1.0) x (x2: 2.0) >> {'x1': 2, 'x2': 2} = (x2: 4.0) x (x1: 3.0)\n",
      "(x1: 1.0) x (x2: 2.0) >> {'x0': 2} = (x2: 2.0) x (x1: 1.0)\n"
     ]
    }
   ],
   "source": [
    "print('%s >> {\\'x1\\': 2} = %s' % (v1, v1 >> {'x1': 2}))\n",
    "print('%s >> {\\'x2\\': 2} = %s' % (v1, v1 >> {'x2': 2}))\n",
    "print('%s >> {\\'x1\\': 2, \\'x2\\': 2} = %s' % (v1, v1 >> {'x1': 2, 'x2': 2}))\n",
    "print('%s >> {\\'x0\\': 2} = %s' % (v1, v1 >> {'x0': 2}))"
   ]
  },
  {
   "cell_type": "markdown",
   "metadata": {},
   "source": [
    "### Constraining\n",
    "\n",
    "This operation ensures that all components will be located in desired area"
   ]
  },
  {
   "cell_type": "code",
   "execution_count": 14,
   "metadata": {},
   "outputs": [
    {
     "name": "stdout",
     "output_type": "stream",
     "text": [
      "v1 = (x1: 1.0) x (x2: 2.0)\n",
      "v1 constrained by area_1: (x2: 2.0) x (x1: 1.0)\n",
      "v1 constrained by area_2: (x2: 2.0) x (x1: 0)\n",
      "v1 constrained by area_3: (x2: 2.0) x (x1: 10)\n",
      "v1 constrained by area_4: (x2: -10) x (x1: 10)\n"
     ]
    }
   ],
   "source": [
    "print('v1 = %s' % v1)\n",
    "\n",
    "area_1 = {'x1': (-1, 1)}\n",
    "area_2 = {'x1': (-1, 0)}\n",
    "area_3 = {'x1': (10, 11)}\n",
    "\n",
    "area_4 = {'x1': (10, 11), 'x2': (-11, -10)}\n",
    "\n",
    "print('v1 constrained by area_1: %s' % v1.constrain(area_1))\n",
    "print('v1 constrained by area_2: %s' % v1.constrain(area_2))\n",
    "print('v1 constrained by area_3: %s' % v1.constrain(area_3))\n",
    "print('v1 constrained by area_4: %s' % v1.constrain(area_4))"
   ]
  },
  {
   "cell_type": "markdown",
   "metadata": {},
   "source": [
    "### Splitting and other interval related operations"
   ]
  },
  {
   "cell_type": "markdown",
   "metadata": {},
   "source": [
    "If there is at least one interval component then we can treat vector as interval vector (or a box)."
   ]
  },
  {
   "cell_type": "markdown",
   "metadata": {},
   "source": [
    "It gives us an opportunity to get the component with max width"
   ]
  },
  {
   "cell_type": "code",
   "execution_count": 15,
   "metadata": {},
   "outputs": [],
   "source": [
    "v6 = Vector({'x1': Interval(1.0, 2.0), 'x2': 3.0, 'x3': Interval(4.0, 10.0)})"
   ]
  },
  {
   "cell_type": "code",
   "execution_count": 16,
   "metadata": {},
   "outputs": [
    {
     "name": "stdout",
     "output_type": "stream",
     "text": [
      "The widest component of v6 is x3\n"
     ]
    }
   ],
   "source": [
    "print('The widest component of v6 is {}'.format(v6.get_widest_component()))"
   ]
  },
  {
   "cell_type": "markdown",
   "metadata": {},
   "source": [
    "It is possible to split vector by `ratio` to other vectors (by default split is performed by the widest component)"
   ]
  },
  {
   "cell_type": "code",
   "execution_count": 17,
   "metadata": {},
   "outputs": [
    {
     "name": "stdout",
     "output_type": "stream",
     "text": [
      "Vector 0: (x1: [1.0; 2.0]) x (x2: 3.0) x (x3: [4.0; 5.0])\n",
      "Vector 1: (x1: [1.0; 2.0]) x (x2: 3.0) x (x3: [5.0; 9.0])\n",
      "Vector 2: (x1: [1.0; 2.0]) x (x2: 3.0) x (x3: [9.0; 10.0])\n"
     ]
    }
   ],
   "source": [
    "split_result = v6.split([1, 4, 1])\n",
    "\n",
    "for i, v in enumerate(split_result):\n",
    "    print('Vector %d: %s' % (i, v))"
   ]
  },
  {
   "cell_type": "markdown",
   "metadata": {},
   "source": [
    "One can manually specify split `key`"
   ]
  },
  {
   "cell_type": "code",
   "execution_count": 18,
   "metadata": {},
   "outputs": [
    {
     "name": "stdout",
     "output_type": "stream",
     "text": [
      "Vector 0: (x1: [1.0; 1.25]) x (x2: 3.0) x (x3: [4.0; 10.0])\n",
      "Vector 1: (x1: [1.25; 1.5]) x (x2: 3.0) x (x3: [4.0; 10.0])\n",
      "Vector 2: (x1: [1.5; 2.0]) x (x2: 3.0) x (x3: [4.0; 10.0])\n"
     ]
    }
   ],
   "source": [
    "split_result = v6.split([1, 1, 2], key='x1')\n",
    "\n",
    "for i, v in enumerate(split_result):\n",
    "    print('Vector %d: %s' % (i, v))"
   ]
  },
  {
   "cell_type": "markdown",
   "metadata": {},
   "source": [
    "There is a shortcut for bisecting: splitting with `ratio=[1, 1]`"
   ]
  },
  {
   "cell_type": "code",
   "execution_count": 19,
   "metadata": {},
   "outputs": [
    {
     "name": "stdout",
     "output_type": "stream",
     "text": [
      "Vector 0: (x1: [1.0; 2.0]) x (x2: 3.0) x (x3: [4.0; 7.0]) (True)\n",
      "Vector 1: (x1: [1.0; 2.0]) x (x2: 3.0) x (x3: [7.0; 10.0]) (True)\n"
     ]
    }
   ],
   "source": [
    "bisect_result = v6.bisect()\n",
    "split_result = v6.split([1, 1])\n",
    "\n",
    "for i, (v1, v2) in enumerate(zip(bisect_result, split_result)):\n",
    "    print('Vector %d: %s (%s)' % (i, v1, v1 == v2))"
   ]
  },
  {
   "cell_type": "code",
   "execution_count": null,
   "metadata": {},
   "outputs": [],
   "source": []
  }
 ],
 "metadata": {
  "kernelspec": {
   "display_name": "Python 3",
   "language": "python",
   "name": "python3"
  },
  "language_info": {
   "codemirror_mode": {
    "name": "ipython",
    "version": 3
   },
   "file_extension": ".py",
   "mimetype": "text/x-python",
   "name": "python",
   "nbconvert_exporter": "python",
   "pygments_lexer": "ipython3",
   "version": "3.6.6"
  }
 },
 "nbformat": 4,
 "nbformat_minor": 2
}
