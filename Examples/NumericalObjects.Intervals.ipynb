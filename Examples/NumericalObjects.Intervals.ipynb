{
 "cells": [
  {
   "cell_type": "markdown",
   "metadata": {},
   "source": [
    "# Intro to Intervals \n",
    "\n",
    "Current notebooks demonstrates main operations that can be performed over intervals"
   ]
  },
  {
   "cell_type": "markdown",
   "metadata": {},
   "source": [
    "# Imports"
   ]
  },
  {
   "cell_type": "code",
   "execution_count": 1,
   "metadata": {},
   "outputs": [
    {
     "name": "stderr",
     "output_type": "stream",
     "text": [
      "/Users/wol4aravio/.local/share/virtualenvs/Examples-cWHzaMCb/lib/python3.6/site-packages/OSOL/Extremum/Numerical_Objects/Interval.py:23: UserWarning: Can not parse config.ini file. Setting default __MIN_WIDTH = 1e-7\n",
      "  warnings.warn('Can not parse config.ini file. Setting default __MIN_WIDTH = 1e-7')\n"
     ]
    }
   ],
   "source": [
    "from OSOL.Extremum.Numerical_Objects.Interval import *\n",
    "\n",
    "from OSOL.Extremum.Tools.Encoders import CustomEncoder as encoder"
   ]
  },
  {
   "cell_type": "code",
   "execution_count": 2,
   "metadata": {},
   "outputs": [],
   "source": [
    "import json"
   ]
  },
  {
   "cell_type": "markdown",
   "metadata": {},
   "source": [
    "# Creation of interval"
   ]
  },
  {
   "cell_type": "markdown",
   "metadata": {},
   "source": [
    "### Via constructor"
   ]
  },
  {
   "cell_type": "code",
   "execution_count": 3,
   "metadata": {},
   "outputs": [
    {
     "name": "stdout",
     "output_type": "stream",
     "text": [
      "Interval i1: [-1.0; 1.0]\n",
      "Interval i2: [-3.0; 5.0]\n"
     ]
    }
   ],
   "source": [
    "i1 = Interval(lower_bound=-1.0, upper_bound=1.0)\n",
    "i2 = Interval(lower_bound=-3.0, upper_bound=5.0)\n",
    "\n",
    "print('Interval i1: {}'.format(i1))\n",
    "print('Interval i2: {}'.format(i2))"
   ]
  },
  {
   "cell_type": "markdown",
   "metadata": {},
   "source": [
    "### From ordinary number"
   ]
  },
  {
   "cell_type": "code",
   "execution_count": 4,
   "metadata": {},
   "outputs": [
    {
     "name": "stdout",
     "output_type": "stream",
     "text": [
      "Interval i3: [2.0; 2.0]\n"
     ]
    }
   ],
   "source": [
    "i3 = Interval.from_value(2.0)\n",
    "\n",
    "print('Interval i3: {}'.format(i3))"
   ]
  },
  {
   "cell_type": "markdown",
   "metadata": {},
   "source": [
    "### From dictionary"
   ]
  },
  {
   "cell_type": "code",
   "execution_count": 5,
   "metadata": {},
   "outputs": [
    {
     "name": "stdout",
     "output_type": "stream",
     "text": [
      "Interval i4: [0.0; 3.0]\n"
     ]
    }
   ],
   "source": [
    "i4 = Interval.from_dict({'lower_bound': 0.0, 'upper_bound': 3.0})\n",
    "\n",
    "print('Interval i4: {}'.format(i4))"
   ]
  },
  {
   "cell_type": "markdown",
   "metadata": {},
   "source": [
    "### Serialization\n",
    "\n",
    "OSOL.Extremum supports interval serialization to JSON (via custom encoder)"
   ]
  },
  {
   "cell_type": "code",
   "execution_count": 6,
   "metadata": {},
   "outputs": [
    {
     "name": "stdout",
     "output_type": "stream",
     "text": [
      "{\"Interval\": {\"lower_bound\": -1.0, \"upper_bound\": 1.0}}\n"
     ]
    }
   ],
   "source": [
    "j = json.dumps(i1, cls=encoder)\n",
    "\n",
    "print(j)"
   ]
  },
  {
   "cell_type": "code",
   "execution_count": 7,
   "metadata": {},
   "outputs": [
    {
     "name": "stdout",
     "output_type": "stream",
     "text": [
      "[-1.0; 1.0]\n"
     ]
    }
   ],
   "source": [
    "i5 = Interval.from_json(json.loads(j))\n",
    "\n",
    "print(i5)"
   ]
  },
  {
   "cell_type": "markdown",
   "metadata": {},
   "source": [
    "### Valid Interval Creation\n",
    "\n",
    "For numerical computation it is not required to have intervals with arbitrary small width (especially during the solution of optimal control tasks).\n",
    "\n",
    "Method `Interval.create_valid_interval` can be used for this purpose. It checks whether desired interval exceeds allowed value of width that is controlled via `Interval.__MIN_WIDTH` constant."
   ]
  },
  {
   "cell_type": "code",
   "execution_count": 14,
   "metadata": {},
   "outputs": [
    {
     "name": "stdout",
     "output_type": "stream",
     "text": [
      "Interval.__MIN_WIDTH: 0.001\n"
     ]
    }
   ],
   "source": [
    "print('Interval.__MIN_WIDTH: {}'.format(Interval._Interval__MIN_WIDTH))"
   ]
  },
  {
   "cell_type": "markdown",
   "metadata": {},
   "source": [
    "Intervals created with this procedure will be automatically degenerated to ordinary numbers if their width is less than `Interval.__MIN_WIDTH`"
   ]
  },
  {
   "cell_type": "code",
   "execution_count": 16,
   "metadata": {},
   "outputs": [
    {
     "name": "stdout",
     "output_type": "stream",
     "text": [
      "Created via constructor: [0.99999; 1.00001]\n",
      "Created via Interval.create_valid_interval procedure: 0.99999\n"
     ]
    }
   ],
   "source": [
    "eps = 1e-5\n",
    "\n",
    "print('Created via constructor: {}'.format(Interval(1 - eps, 1 + eps)))\n",
    "print('Created via Interval.create_valid_interval procedure: {}'.format(Interval.create_valid_interval(1 - eps, 1 + eps)))"
   ]
  },
  {
   "cell_type": "markdown",
   "metadata": {},
   "source": [
    "# Interval properties"
   ]
  },
  {
   "cell_type": "code",
   "execution_count": 26,
   "metadata": {},
   "outputs": [
    {
     "name": "stdout",
     "output_type": "stream",
     "text": [
      "Target interval: [-1.0; 1.0]\n",
      "\n",
      "Extraction of lower bound: -1.000000\n",
      "Extraction of upper bound: 1.000000\n"
     ]
    }
   ],
   "source": [
    "print('Target interval: %s\\n' % i1)\n",
    "\n",
    "print('Extraction of lower bound: %f' % i1.left)\n",
    "print('Extraction of upper bound: %f' % i1.right)"
   ]
  },
  {
   "cell_type": "code",
   "execution_count": 27,
   "metadata": {},
   "outputs": [
    {
     "name": "stdout",
     "output_type": "stream",
     "text": [
      "Target interval: [-3.0; 5.0]\n",
      "\n",
      "Extraction of middle point: 1.000000\n",
      "Extraction of width: 8.000000\n",
      "Extraction of radius: 4.000000\n"
     ]
    }
   ],
   "source": [
    "print('Target interval: %s\\n' % i2)\n",
    "\n",
    "print('Extraction of middle point: %f' % i2.middle_point)\n",
    "print('Extraction of width: %f' % i2.width)\n",
    "print('Extraction of radius: %f' % i2.radius)"
   ]
  },
  {
   "cell_type": "code",
   "execution_count": null,
   "metadata": {},
   "outputs": [],
   "source": []
  },
  {
   "cell_type": "code",
   "execution_count": null,
   "metadata": {},
   "outputs": [],
   "source": []
  },
  {
   "cell_type": "code",
   "execution_count": null,
   "metadata": {},
   "outputs": [],
   "source": []
  },
  {
   "cell_type": "code",
   "execution_count": null,
   "metadata": {},
   "outputs": [],
   "source": []
  },
  {
   "cell_type": "code",
   "execution_count": null,
   "metadata": {},
   "outputs": [],
   "source": []
  },
  {
   "cell_type": "code",
   "execution_count": null,
   "metadata": {},
   "outputs": [],
   "source": []
  },
  {
   "cell_type": "code",
   "execution_count": null,
   "metadata": {},
   "outputs": [],
   "source": []
  },
  {
   "cell_type": "code",
   "execution_count": null,
   "metadata": {},
   "outputs": [],
   "source": []
  },
  {
   "cell_type": "code",
   "execution_count": null,
   "metadata": {},
   "outputs": [],
   "source": []
  },
  {
   "cell_type": "code",
   "execution_count": null,
   "metadata": {},
   "outputs": [],
   "source": []
  }
 ],
 "metadata": {
  "kernelspec": {
   "display_name": "Python 3",
   "language": "python",
   "name": "python3"
  },
  "language_info": {
   "codemirror_mode": {
    "name": "ipython",
    "version": 3
   },
   "file_extension": ".py",
   "mimetype": "text/x-python",
   "name": "python",
   "nbconvert_exporter": "python",
   "pygments_lexer": "ipython3",
   "version": "3.6.6"
  }
 },
 "nbformat": 4,
 "nbformat_minor": 2
}
