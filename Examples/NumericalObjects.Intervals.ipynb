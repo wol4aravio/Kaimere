{
 "cells": [
  {
   "cell_type": "markdown",
   "metadata": {},
   "source": [
    "# Intro to Intervals \n",
    "\n",
    "Current notebooks demonstrates main operations that can be performed over intervals"
   ]
  },
  {
   "cell_type": "markdown",
   "metadata": {},
   "source": [
    "# Imports"
   ]
  },
  {
   "cell_type": "code",
   "execution_count": 1,
   "metadata": {},
   "outputs": [],
   "source": [
    "from OSOL.Extremum.Numerical_Objects.Interval import *\n",
    "\n",
    "from OSOL.Extremum.Tools.Encoders import CustomEncoder as encoder"
   ]
  },
  {
   "cell_type": "code",
   "execution_count": 2,
   "metadata": {},
   "outputs": [],
   "source": [
    "import json"
   ]
  },
  {
   "cell_type": "markdown",
   "metadata": {},
   "source": [
    "# Creation of interval"
   ]
  },
  {
   "cell_type": "markdown",
   "metadata": {},
   "source": [
    "### Via constructor"
   ]
  },
  {
   "cell_type": "code",
   "execution_count": 3,
   "metadata": {},
   "outputs": [],
   "source": [
    "i1 = Interval(lower_bound=-1.0, upper_bound=1.0)\n",
    "i2 = Interval(lower_bound=-3.0, upper_bound=5.0)\n",
    "\n",
    "print('Interval i1: {}'.format(i1))\n",
    "print('Interval i2: {}'.format(i2))"
   ]
  },
  {
   "cell_type": "markdown",
   "metadata": {},
   "source": [
    "### From ordinary number"
   ]
  },
  {
   "cell_type": "code",
   "execution_count": 4,
   "metadata": {},
   "outputs": [],
   "source": [
    "i3 = Interval.from_value(2.0)\n",
    "\n",
    "print('Interval i3: {}'.format(i3))"
   ]
  },
  {
   "cell_type": "markdown",
   "metadata": {},
   "source": [
    "### From dictionary"
   ]
  },
  {
   "cell_type": "code",
   "execution_count": 5,
   "metadata": {},
   "outputs": [],
   "source": [
    "i4 = Interval.from_dict({'lower_bound': 1.0, 'upper_bound': 3.0})\n",
    "\n",
    "print('Interval i4: {}'.format(i4))"
   ]
  },
  {
   "cell_type": "markdown",
   "metadata": {},
   "source": [
    "### Serialization\n",
    "\n",
    "OSOL.Extremum supports interval serialization to JSON (via custom encoder)"
   ]
  },
  {
   "cell_type": "code",
   "execution_count": 6,
   "metadata": {},
   "outputs": [],
   "source": [
    "j = json.dumps(i1, cls=encoder)\n",
    "\n",
    "print(j)"
   ]
  },
  {
   "cell_type": "code",
   "execution_count": 7,
   "metadata": {},
   "outputs": [],
   "source": [
    "i5 = Interval.from_json(json.loads(j))\n",
    "\n",
    "print(i5)"
   ]
  },
  {
   "cell_type": "markdown",
   "metadata": {},
   "source": [
    "### Valid Interval Creation\n",
    "\n",
    "For numerical computation it is not required to have intervals with arbitrary small width (especially during the solution of optimal control tasks).\n",
    "\n",
    "Method `Interval.create_valid_interval` can be used for this purpose. It checks whether desired interval exceeds allowed value of width that is controlled via `Interval.__MIN_WIDTH` constant."
   ]
  },
  {
   "cell_type": "code",
   "execution_count": 8,
   "metadata": {},
   "outputs": [
    {
     "name": "stdout",
     "output_type": "stream",
     "text": [
      "Interval.__MIN_WIDTH: 1e-07\n"
     ]
    }
   ],
   "source": [
    "print('Interval.__MIN_WIDTH: {}'.format(Interval._Interval__MIN_WIDTH))"
   ]
  },
  {
   "cell_type": "markdown",
   "metadata": {},
   "source": [
    "Intervals created with this procedure will be automatically degenerated to ordinary numbers if their width is less than `Interval.__MIN_WIDTH`"
   ]
  },
  {
   "cell_type": "code",
   "execution_count": 9,
   "metadata": {},
   "outputs": [
    {
     "name": "stdout",
     "output_type": "stream",
     "text": [
      "Created via constructor: [0.99999; 1.00001]\n",
      "Created via Interval.create_valid_interval procedure: [0.99999; 1.00001]\n"
     ]
    }
   ],
   "source": [
    "eps = 1e-5\n",
    "\n",
    "print('Created via constructor: {}'.format(Interval(1 - eps, 1 + eps)))\n",
    "print('Created via Interval.create_valid_interval procedure: {}'.format(Interval.create_valid_interval(1 - eps, 1 + eps)))"
   ]
  },
  {
   "cell_type": "markdown",
   "metadata": {},
   "source": [
    "# Interval properties"
   ]
  },
  {
   "cell_type": "code",
   "execution_count": 10,
   "metadata": {},
   "outputs": [
    {
     "name": "stdout",
     "output_type": "stream",
     "text": [
      "Target interval: [-1.0; 1.0]\n",
      "\n",
      "Extraction of lower bound: -1.000000\n",
      "Extraction of upper bound: 1.000000\n"
     ]
    }
   ],
   "source": [
    "print('Target interval: %s\\n' % i1)\n",
    "\n",
    "print('Extraction of lower bound: %f' % i1.left)\n",
    "print('Extraction of upper bound: %f' % i1.right)"
   ]
  },
  {
   "cell_type": "code",
   "execution_count": 11,
   "metadata": {},
   "outputs": [
    {
     "name": "stdout",
     "output_type": "stream",
     "text": [
      "Target interval: [-3.0; 5.0]\n",
      "\n",
      "Extraction of middle point: 1.000000\n",
      "Extraction of width: 8.000000\n",
      "Extraction of radius: 4.000000\n"
     ]
    }
   ],
   "source": [
    "print('Target interval: %s\\n' % i2)\n",
    "\n",
    "print('Extraction of middle point: %f' % i2.middle_point)\n",
    "print('Extraction of width: %f' % i2.width)\n",
    "print('Extraction of radius: %f' % i2.radius)"
   ]
  },
  {
   "cell_type": "markdown",
   "metadata": {},
   "source": [
    "# Operations and functions"
   ]
  },
  {
   "cell_type": "markdown",
   "metadata": {},
   "source": [
    "### (In)Equality and approximate equality"
   ]
  },
  {
   "cell_type": "code",
   "execution_count": 12,
   "metadata": {},
   "outputs": [
    {
     "name": "stdout",
     "output_type": "stream",
     "text": [
      "[1; 2] == [1; 2] => True\n",
      "[1; 2] == [1.0000001; 1.9999999] => False\n",
      "[1; 2] ~= [1.0000001; 1.9999999] => True\n"
     ]
    }
   ],
   "source": [
    "eps = 1e-7\n",
    "\n",
    "a = Interval(1, 2)\n",
    "b = Interval(1, 2)\n",
    "c = Interval(a.left + eps, a.right - eps)\n",
    "\n",
    "print('%s == %s => %s' % (a, b, a == b))\n",
    "print('%s == %s => %s' % (a, c, a == c))\n",
    "print('%s ~= %s => %s' % (a, c, a.approximately_equals_to(c, max_error=1e-3)))"
   ]
  },
  {
   "cell_type": "markdown",
   "metadata": {},
   "source": [
    "Remember that real number `x` can be treated as a degenerate interval `[x; x]`"
   ]
  },
  {
   "cell_type": "code",
   "execution_count": 13,
   "metadata": {},
   "outputs": [
    {
     "data": {
      "text/plain": [
       "True"
      ]
     },
     "execution_count": 13,
     "metadata": {},
     "output_type": "execute_result"
    }
   ],
   "source": [
    "1 == Interval(1, 1)"
   ]
  },
  {
   "cell_type": "code",
   "execution_count": 14,
   "metadata": {},
   "outputs": [
    {
     "data": {
      "text/plain": [
       "True"
      ]
     },
     "execution_count": 14,
     "metadata": {},
     "output_type": "execute_result"
    }
   ],
   "source": [
    "Interval(2, 2) != 3"
   ]
  },
  {
   "cell_type": "markdown",
   "metadata": {},
   "source": [
    "### Interval comparison\n",
    "\n",
    "It should be noted that comparison is performed only by **lower bound**"
   ]
  },
  {
   "cell_type": "code",
   "execution_count": 15,
   "metadata": {},
   "outputs": [
    {
     "name": "stdout",
     "output_type": "stream",
     "text": [
      "[2; 2] < [1; 3] => False\n",
      "[2; 2] > [1; 3] => True\n",
      "[2; 2] >= [1; 3] => True\n",
      "[1; 3] < [1; 2] => False\n",
      "[1; 3] > [1; 2] => False\n",
      "[1; 3] <= [1; 2] => True\n"
     ]
    }
   ],
   "source": [
    "a = Interval(1, 3)\n",
    "b = Interval(1, 2)\n",
    "c = Interval(2, 2)\n",
    "\n",
    "print('%s < %s => %s' % (c, a, c < a))\n",
    "print('%s > %s => %s' % (c, a, c > a))\n",
    "print('%s >= %s => %s' % (c, a, c >= a))\n",
    "print('%s < %s => %s' % (a, b, a < b))\n",
    "print('%s > %s => %s' % (a, b, a > b))\n",
    "print('%s <= %s => %s' % (a, b, a <= b))"
   ]
  },
  {
   "cell_type": "markdown",
   "metadata": {},
   "source": [
    "### Arithmetical operations and elementary functions"
   ]
  },
  {
   "cell_type": "code",
   "execution_count": 16,
   "metadata": {},
   "outputs": [
    {
     "name": "stdout",
     "output_type": "stream",
     "text": [
      "[-1.0; 1.0] + [-3.0; 5.0] = [-4.0; 6.0]\n",
      "[-1.0; 1.0] - [-3.0; 5.0] = [-6.0; 4.0]\n",
      "\n",
      "\n",
      "[2.0; 2.0] * [1.0; 3.0] = [2.0; 6.0]\n",
      "[2.0; 2.0] / [1.0; 3.0] = [0.6666666666666666; 2.0]\n",
      "\n",
      "\n",
      "[-3.0; 5.0] ** 2 = [0.0; 25.0]\n",
      "[-3.0; 5.0] ** 3 = [-27.0; 125.0]\n"
     ]
    }
   ],
   "source": [
    "print('%s + %s = %s' % (i1, i2, i1 + i2))\n",
    "print('%s - %s = %s' % (i1, i2, i1 - i2))\n",
    "print('\\n')\n",
    "\n",
    "print('%s * %s = %s' % (i3, i4, i3 * i4))\n",
    "print('%s / %s = %s' % (i3, i4, i3 / i4))\n",
    "print('\\n')\n",
    "\n",
    "print('%s ** 2 = %s' % (i2, i2 ** 2))\n",
    "print('%s ** 3 = %s' % (i2, i2 ** 3))"
   ]
  },
  {
   "cell_type": "code",
   "execution_count": 17,
   "metadata": {},
   "outputs": [
    {
     "name": "stdout",
     "output_type": "stream",
     "text": [
      "|[-1.0; 1.0]| = [0.0; 1.0]\n",
      "|[-3.0; 5.0]| = [0.0; 5.0]\n",
      "\n",
      "\n",
      "exp([-3.0; 5.0]) = [0.049787068367863944; 148.4131591025766]\n",
      "sin([-3.0; 5.0]) = [-1.0; 1.0]\n",
      "sqrt([-3.0; 5.0]) = [0.0; 2.23606797749979]\n"
     ]
    }
   ],
   "source": [
    "print('|%s| = %s' % (i1, abs(i1)))\n",
    "print('|%s| = %s' % (i2, abs(i2)))\n",
    "print('\\n')\n",
    "\n",
    "print('exp(%s) = %s' % (i2, exp(i2)))\n",
    "print('sin(%s) = %s' % (i2, sin(i2)))\n",
    "print('sqrt(%s) = %s' % (i2, sqrt(i2)))"
   ]
  },
  {
   "cell_type": "markdown",
   "metadata": {},
   "source": [
    "### Special interval operations"
   ]
  },
  {
   "cell_type": "markdown",
   "metadata": {},
   "source": [
    "### Bisection\n",
    "\n",
    "Splits interval by its middle point"
   ]
  },
  {
   "cell_type": "code",
   "execution_count": 18,
   "metadata": {},
   "outputs": [
    {
     "name": "stdout",
     "output_type": "stream",
     "text": [
      "[-1.0; 1.0] => ([-1.0; 0.0], [0.0; 1.0])\n"
     ]
    }
   ],
   "source": [
    "i1_left, i1_right = i1.bisect()\n",
    "print('%s => (%s, %s)' % (i1, i1_left, i1_right))"
   ]
  },
  {
   "cell_type": "markdown",
   "metadata": {},
   "source": [
    "Or you can use `split` methods with specified ratios"
   ]
  },
  {
   "cell_type": "code",
   "execution_count": 19,
   "metadata": {},
   "outputs": [
    {
     "name": "stdout",
     "output_type": "stream",
     "text": [
      "Target interval: [-3.0; 5.0]\n",
      "Split result: ['[-3.0; 0.0]', '[0.0; 2.0]', '[2.0; 3.0]', '[3.0; 5.0]']\n"
     ]
    }
   ],
   "source": [
    "print('Target interval: {}'.format(i2))\n",
    "\n",
    "print('Split result: {}'.format(list(map(str, i2.split(ratios=(3, 2, 1, 2))))))"
   ]
  }
 ],
 "metadata": {
  "kernelspec": {
   "display_name": "Python 3",
   "language": "python",
   "name": "python3"
  },
  "language_info": {
   "codemirror_mode": {
    "name": "ipython",
    "version": 3
   },
   "file_extension": ".py",
   "mimetype": "text/x-python",
   "name": "python",
   "nbconvert_exporter": "python",
   "pygments_lexer": "ipython3",
   "version": "3.6.6"
  }
 },
 "nbformat": 4,
 "nbformat_minor": 2
}
