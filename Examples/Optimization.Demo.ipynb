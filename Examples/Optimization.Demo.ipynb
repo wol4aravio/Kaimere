{
 "cells": [
  {
   "cell_type": "markdown",
   "metadata": {},
   "source": [
    "# Intro to Optimization\n",
    "\n",
    "Current notebook demonstrates how to apply optimization algorithms"
   ]
  },
  {
   "cell_type": "markdown",
   "metadata": {},
   "source": [
    "# Imports"
   ]
  },
  {
   "cell_type": "code",
   "execution_count": 1,
   "metadata": {},
   "outputs": [
    {
     "name": "stderr",
     "output_type": "stream",
     "text": [
      "/Users/wol4aravio/.local/share/virtualenvs/OSOL.Extremum-OVhn4MgJ/lib/python3.6/site-packages/OSOL/Extremum/Numerical_Objects/Interval.py:19: UserWarning: Can not parse config.ini file. Setting default __MIN_WIDTH = 1e-3\n",
      "  warnings.warn('Can not parse config.ini file. Setting default __MIN_WIDTH = 1e-3')\n"
     ]
    }
   ],
   "source": [
    "from OSOL.Extremum.Optimization.Algorithms import *\n",
    "from OSOL.Extremum.Optimization.Terminators.MaxTimeTerminator import MaxTimeTerminator\n",
    "from OSOL.Extremum.Tools import OptimizationTools"
   ]
  },
  {
   "cell_type": "code",
   "execution_count": 2,
   "metadata": {},
   "outputs": [],
   "source": [
    "import json"
   ]
  },
  {
   "cell_type": "markdown",
   "metadata": {},
   "source": [
    "### Configuration selection"
   ]
  },
  {
   "cell_type": "code",
   "execution_count": 3,
   "metadata": {},
   "outputs": [
    {
     "name": "stdout",
     "output_type": "stream",
     "text": [
      "{\n",
      "  \"RandomSearch\": {\n",
      "    \"radius\": 1.0\n",
      "  }\n",
      "}\n"
     ]
    }
   ],
   "source": [
    "config = {\n",
    "    'RandomSearch': {\n",
    "        'radius': 1.0\n",
    "    }\n",
    "}\n",
    "\n",
    "print(json.dumps(config, indent=2))"
   ]
  },
  {
   "cell_type": "markdown",
   "metadata": {},
   "source": [
    "### Task creation"
   ]
  },
  {
   "cell_type": "code",
   "execution_count": 4,
   "metadata": {},
   "outputs": [],
   "source": [
    "target_f = lambda v: v['x'] ** 2 + v['y'] ** 2"
   ]
  },
  {
   "cell_type": "code",
   "execution_count": 5,
   "metadata": {},
   "outputs": [],
   "source": [
    "target_area = {\n",
    "    'x': (-10, 10),\n",
    "    'y': (-10, 10)\n",
    "}"
   ]
  },
  {
   "cell_type": "code",
   "execution_count": 6,
   "metadata": {},
   "outputs": [],
   "source": [
    "mt = MaxTimeTerminator(max_time='s:5')"
   ]
  },
  {
   "cell_type": "markdown",
   "metadata": {},
   "source": [
    "### Application"
   ]
  },
  {
   "cell_type": "code",
   "execution_count": 7,
   "metadata": {},
   "outputs": [],
   "source": [
    "algorithm = OptimizationTools.create_algorithm_from_json(config)"
   ]
  },
  {
   "cell_type": "code",
   "execution_count": 8,
   "metadata": {},
   "outputs": [],
   "source": [
    "x_opt = algorithm.work(\n",
    "    f=target_f,\n",
    "    area=target_area,\n",
    "    terminator=mt)"
   ]
  },
  {
   "cell_type": "code",
   "execution_count": 9,
   "metadata": {},
   "outputs": [
    {
     "name": "stdout",
     "output_type": "stream",
     "text": [
      "(y: -1.106784823497329e-05) x (x: 4.412836260555161e-06)\n"
     ]
    }
   ],
   "source": [
    "print(x_opt)"
   ]
  },
  {
   "cell_type": "code",
   "execution_count": null,
   "metadata": {},
   "outputs": [],
   "source": []
  }
 ],
 "metadata": {
  "kernelspec": {
   "display_name": "Python 3",
   "language": "python",
   "name": "python3"
  },
  "language_info": {
   "codemirror_mode": {
    "name": "ipython",
    "version": 3
   },
   "file_extension": ".py",
   "mimetype": "text/x-python",
   "name": "python",
   "nbconvert_exporter": "python",
   "pygments_lexer": "ipython3",
   "version": "3.6.6"
  }
 },
 "nbformat": 4,
 "nbformat_minor": 2
}
